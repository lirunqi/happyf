{
 "cells": [
  {
   "cell_type": "code",
   "execution_count": 2,
   "metadata": {
    "collapsed": true,
    "pycharm": {
     "name": "#%%\n"
    }
   },
   "outputs": [],
   "source": [
    "\n",
    "import json\n",
    "import pandas as pd"
   ]
  },
  {
   "cell_type": "code",
   "execution_count": 3,
   "metadata": {
    "pycharm": {
     "name": "#%%\n"
    }
   },
   "outputs": [],
   "source": [
    "f = open('r.json',encoding='utf-8')\n",
    "json_data = json.load(f)"
   ]
  },
  {
   "cell_type": "code",
   "execution_count": 5,
   "metadata": {
    "pycharm": {
     "name": "#%%\n"
    }
   },
   "outputs": [
    {
     "data": {
      "text/plain": [
       "0      {'t': 1679158502, 'p': 1, 'h': 0, 'a': 0, 'rt'...\n",
       "1      {'t': 1679158473, 'p': 1, 'h': 1.01, 'a': 9.33...\n",
       "2      {'t': 1679158436, 'p': 1, 'h': 1.03, 'a': 8.14...\n",
       "3      {'t': 1679158413, 'p': 1, 'h': 1.05, 'a': 7.25...\n",
       "4      {'t': 1679158371, 'p': 1, 'h': 1.07, 'a': 6.55...\n",
       "                             ...                        \n",
       "136    {'t': 1679152000, 'p': -2, 'h': 1.85, 'a': 2.0...\n",
       "137    {'t': 1679151955, 'p': -2, 'h': 1.86, 'a': 2.0...\n",
       "138    {'t': 1679151953, 'p': -2, 'h': 1.85, 'a': 2.0...\n",
       "139    {'t': 1679151932, 'p': -2, 'h': 1.87, 'a': 2.0...\n",
       "140    {'t': 1679151727, 'p': -2, 'h': 1.88, 'a': 2.0...\n",
       "Name: 1, Length: 141, dtype: object"
      ]
     },
     "execution_count": 5,
     "metadata": {},
     "output_type": "execute_result"
    }
   ],
   "source": [
    "a = pd.json_normalize(json_data,['al','l']).loc[1]\n",
    "pd.json_normalize(json_data,['al','l']).loc[1]"
   ]
  },
  {
   "cell_type": "code",
   "execution_count": 6,
   "metadata": {
    "pycharm": {
     "name": "#%%\n"
    }
   },
   "outputs": [],
   "source": [
    "# 定义lambda函数，将每个元素中的't', 'p', 'h'取出来组成一个tuple\n",
    "parse_tph = lambda x: (x['t'], x['p'], x['h'])\n",
    "\n",
    "# 使用apply函数，将parse_tph作用于s中的每个元素，得到一个DataFrame\n",
    "df_tph = a.apply(parse_tph).apply(pd.Series)\n",
    "\n",
    "# 将df_tph与原始Series按列合并\n",
    "result = pd.concat([a, df_tph], axis=1)"
   ]
  },
  {
   "cell_type": "code",
   "execution_count": 7,
   "metadata": {
    "pycharm": {
     "name": "#%%\n"
    }
   },
   "outputs": [
    {
     "data": {
      "text/html": [
       "<div>\n",
       "<style scoped>\n",
       "    .dataframe tbody tr th:only-of-type {\n",
       "        vertical-align: middle;\n",
       "    }\n",
       "\n",
       "    .dataframe tbody tr th {\n",
       "        vertical-align: top;\n",
       "    }\n",
       "\n",
       "    .dataframe thead th {\n",
       "        text-align: right;\n",
       "    }\n",
       "</style>\n",
       "<table border=\"1\" class=\"dataframe\">\n",
       "  <thead>\n",
       "    <tr style=\"text-align: right;\">\n",
       "      <th></th>\n",
       "      <th>1</th>\n",
       "      <th>0</th>\n",
       "      <th>1</th>\n",
       "      <th>2</th>\n",
       "    </tr>\n",
       "  </thead>\n",
       "  <tbody>\n",
       "    <tr>\n",
       "      <th>0</th>\n",
       "      <td>{'t': 1679158502, 'p': 1, 'h': 0, 'a': 0, 'rt'...</td>\n",
       "      <td>1.679159e+09</td>\n",
       "      <td>1.0</td>\n",
       "      <td>0.00</td>\n",
       "    </tr>\n",
       "    <tr>\n",
       "      <th>1</th>\n",
       "      <td>{'t': 1679158473, 'p': 1, 'h': 1.01, 'a': 9.33...</td>\n",
       "      <td>1.679158e+09</td>\n",
       "      <td>1.0</td>\n",
       "      <td>1.01</td>\n",
       "    </tr>\n",
       "    <tr>\n",
       "      <th>2</th>\n",
       "      <td>{'t': 1679158436, 'p': 1, 'h': 1.03, 'a': 8.14...</td>\n",
       "      <td>1.679158e+09</td>\n",
       "      <td>1.0</td>\n",
       "      <td>1.03</td>\n",
       "    </tr>\n",
       "    <tr>\n",
       "      <th>3</th>\n",
       "      <td>{'t': 1679158413, 'p': 1, 'h': 1.05, 'a': 7.25...</td>\n",
       "      <td>1.679158e+09</td>\n",
       "      <td>1.0</td>\n",
       "      <td>1.05</td>\n",
       "    </tr>\n",
       "    <tr>\n",
       "      <th>4</th>\n",
       "      <td>{'t': 1679158371, 'p': 1, 'h': 1.07, 'a': 6.55...</td>\n",
       "      <td>1.679158e+09</td>\n",
       "      <td>1.0</td>\n",
       "      <td>1.07</td>\n",
       "    </tr>\n",
       "    <tr>\n",
       "      <th>...</th>\n",
       "      <td>...</td>\n",
       "      <td>...</td>\n",
       "      <td>...</td>\n",
       "      <td>...</td>\n",
       "    </tr>\n",
       "    <tr>\n",
       "      <th>136</th>\n",
       "      <td>{'t': 1679152000, 'p': -2, 'h': 1.85, 'a': 2.0...</td>\n",
       "      <td>1.679152e+09</td>\n",
       "      <td>-2.0</td>\n",
       "      <td>1.85</td>\n",
       "    </tr>\n",
       "    <tr>\n",
       "      <th>137</th>\n",
       "      <td>{'t': 1679151955, 'p': -2, 'h': 1.86, 'a': 2.0...</td>\n",
       "      <td>1.679152e+09</td>\n",
       "      <td>-2.0</td>\n",
       "      <td>1.86</td>\n",
       "    </tr>\n",
       "    <tr>\n",
       "      <th>138</th>\n",
       "      <td>{'t': 1679151953, 'p': -2, 'h': 1.85, 'a': 2.0...</td>\n",
       "      <td>1.679152e+09</td>\n",
       "      <td>-2.0</td>\n",
       "      <td>1.85</td>\n",
       "    </tr>\n",
       "    <tr>\n",
       "      <th>139</th>\n",
       "      <td>{'t': 1679151932, 'p': -2, 'h': 1.87, 'a': 2.0...</td>\n",
       "      <td>1.679152e+09</td>\n",
       "      <td>-2.0</td>\n",
       "      <td>1.87</td>\n",
       "    </tr>\n",
       "    <tr>\n",
       "      <th>140</th>\n",
       "      <td>{'t': 1679151727, 'p': -2, 'h': 1.88, 'a': 2.0...</td>\n",
       "      <td>1.679152e+09</td>\n",
       "      <td>-2.0</td>\n",
       "      <td>1.88</td>\n",
       "    </tr>\n",
       "  </tbody>\n",
       "</table>\n",
       "<p>141 rows × 4 columns</p>\n",
       "</div>"
      ],
      "text/plain": [
       "                                                     1             0    1  \\\n",
       "0    {'t': 1679158502, 'p': 1, 'h': 0, 'a': 0, 'rt'...  1.679159e+09  1.0   \n",
       "1    {'t': 1679158473, 'p': 1, 'h': 1.01, 'a': 9.33...  1.679158e+09  1.0   \n",
       "2    {'t': 1679158436, 'p': 1, 'h': 1.03, 'a': 8.14...  1.679158e+09  1.0   \n",
       "3    {'t': 1679158413, 'p': 1, 'h': 1.05, 'a': 7.25...  1.679158e+09  1.0   \n",
       "4    {'t': 1679158371, 'p': 1, 'h': 1.07, 'a': 6.55...  1.679158e+09  1.0   \n",
       "..                                                 ...           ...  ...   \n",
       "136  {'t': 1679152000, 'p': -2, 'h': 1.85, 'a': 2.0...  1.679152e+09 -2.0   \n",
       "137  {'t': 1679151955, 'p': -2, 'h': 1.86, 'a': 2.0...  1.679152e+09 -2.0   \n",
       "138  {'t': 1679151953, 'p': -2, 'h': 1.85, 'a': 2.0...  1.679152e+09 -2.0   \n",
       "139  {'t': 1679151932, 'p': -2, 'h': 1.87, 'a': 2.0...  1.679152e+09 -2.0   \n",
       "140  {'t': 1679151727, 'p': -2, 'h': 1.88, 'a': 2.0...  1.679152e+09 -2.0   \n",
       "\n",
       "        2  \n",
       "0    0.00  \n",
       "1    1.01  \n",
       "2    1.03  \n",
       "3    1.05  \n",
       "4    1.07  \n",
       "..    ...  \n",
       "136  1.85  \n",
       "137  1.86  \n",
       "138  1.85  \n",
       "139  1.87  \n",
       "140  1.88  \n",
       "\n",
       "[141 rows x 4 columns]"
      ]
     },
     "execution_count": 7,
     "metadata": {},
     "output_type": "execute_result"
    }
   ],
   "source": [
    "result"
   ]
  },
  {
   "cell_type": "code",
   "execution_count": 10,
   "metadata": {
    "pycharm": {
     "name": "#%%\n"
    }
   },
   "outputs": [
    {
     "data": {
      "text/html": [
       "<div>\n",
       "<style scoped>\n",
       "    .dataframe tbody tr th:only-of-type {\n",
       "        vertical-align: middle;\n",
       "    }\n",
       "\n",
       "    .dataframe tbody tr th {\n",
       "        vertical-align: top;\n",
       "    }\n",
       "\n",
       "    .dataframe thead th {\n",
       "        text-align: right;\n",
       "    }\n",
       "</style>\n",
       "<table border=\"1\" class=\"dataframe\">\n",
       "  <thead>\n",
       "    <tr style=\"text-align: right;\">\n",
       "      <th></th>\n",
       "      <th>1</th>\n",
       "      <th>1</th>\n",
       "    </tr>\n",
       "  </thead>\n",
       "  <tbody>\n",
       "    <tr>\n",
       "      <th>0</th>\n",
       "      <td>{'t': 1679158502, 'p': 1, 'h': 0, 'a': 0, 'rt'...</td>\n",
       "      <td>1.0</td>\n",
       "    </tr>\n",
       "    <tr>\n",
       "      <th>1</th>\n",
       "      <td>{'t': 1679158473, 'p': 1, 'h': 1.01, 'a': 9.33...</td>\n",
       "      <td>1.0</td>\n",
       "    </tr>\n",
       "    <tr>\n",
       "      <th>2</th>\n",
       "      <td>{'t': 1679158436, 'p': 1, 'h': 1.03, 'a': 8.14...</td>\n",
       "      <td>1.0</td>\n",
       "    </tr>\n",
       "    <tr>\n",
       "      <th>3</th>\n",
       "      <td>{'t': 1679158413, 'p': 1, 'h': 1.05, 'a': 7.25...</td>\n",
       "      <td>1.0</td>\n",
       "    </tr>\n",
       "    <tr>\n",
       "      <th>4</th>\n",
       "      <td>{'t': 1679158371, 'p': 1, 'h': 1.07, 'a': 6.55...</td>\n",
       "      <td>1.0</td>\n",
       "    </tr>\n",
       "    <tr>\n",
       "      <th>...</th>\n",
       "      <td>...</td>\n",
       "      <td>...</td>\n",
       "    </tr>\n",
       "    <tr>\n",
       "      <th>136</th>\n",
       "      <td>{'t': 1679152000, 'p': -2, 'h': 1.85, 'a': 2.0...</td>\n",
       "      <td>-2.0</td>\n",
       "    </tr>\n",
       "    <tr>\n",
       "      <th>137</th>\n",
       "      <td>{'t': 1679151955, 'p': -2, 'h': 1.86, 'a': 2.0...</td>\n",
       "      <td>-2.0</td>\n",
       "    </tr>\n",
       "    <tr>\n",
       "      <th>138</th>\n",
       "      <td>{'t': 1679151953, 'p': -2, 'h': 1.85, 'a': 2.0...</td>\n",
       "      <td>-2.0</td>\n",
       "    </tr>\n",
       "    <tr>\n",
       "      <th>139</th>\n",
       "      <td>{'t': 1679151932, 'p': -2, 'h': 1.87, 'a': 2.0...</td>\n",
       "      <td>-2.0</td>\n",
       "    </tr>\n",
       "    <tr>\n",
       "      <th>140</th>\n",
       "      <td>{'t': 1679151727, 'p': -2, 'h': 1.88, 'a': 2.0...</td>\n",
       "      <td>-2.0</td>\n",
       "    </tr>\n",
       "  </tbody>\n",
       "</table>\n",
       "<p>141 rows × 2 columns</p>\n",
       "</div>"
      ],
      "text/plain": [
       "                                                     1    1\n",
       "0    {'t': 1679158502, 'p': 1, 'h': 0, 'a': 0, 'rt'...  1.0\n",
       "1    {'t': 1679158473, 'p': 1, 'h': 1.01, 'a': 9.33...  1.0\n",
       "2    {'t': 1679158436, 'p': 1, 'h': 1.03, 'a': 8.14...  1.0\n",
       "3    {'t': 1679158413, 'p': 1, 'h': 1.05, 'a': 7.25...  1.0\n",
       "4    {'t': 1679158371, 'p': 1, 'h': 1.07, 'a': 6.55...  1.0\n",
       "..                                                 ...  ...\n",
       "136  {'t': 1679152000, 'p': -2, 'h': 1.85, 'a': 2.0... -2.0\n",
       "137  {'t': 1679151955, 'p': -2, 'h': 1.86, 'a': 2.0... -2.0\n",
       "138  {'t': 1679151953, 'p': -2, 'h': 1.85, 'a': 2.0... -2.0\n",
       "139  {'t': 1679151932, 'p': -2, 'h': 1.87, 'a': 2.0... -2.0\n",
       "140  {'t': 1679151727, 'p': -2, 'h': 1.88, 'a': 2.0... -2.0\n",
       "\n",
       "[141 rows x 2 columns]"
      ]
     },
     "execution_count": 10,
     "metadata": {},
     "output_type": "execute_result"
    }
   ],
   "source": [
    "result[1]"
   ]
  },
  {
   "cell_type": "code",
   "execution_count": null,
   "metadata": {},
   "outputs": [],
   "source": []
  }
 ],
 "metadata": {
  "kernelspec": {
   "display_name": "Python 3 (ipykernel)",
   "language": "python",
   "name": "python3"
  },
  "language_info": {
   "codemirror_mode": {
    "name": "ipython",
    "version": 3
   },
   "file_extension": ".py",
   "mimetype": "text/x-python",
   "name": "python",
   "nbconvert_exporter": "python",
   "pygments_lexer": "ipython3",
   "version": "3.8.16"
  }
 },
 "nbformat": 4,
 "nbformat_minor": 1
}
