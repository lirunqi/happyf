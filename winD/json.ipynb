{
 "cells": [
  {
   "cell_type": "code",
   "execution_count": 1,
   "metadata": {
    "collapsed": true,
    "pycharm": {
     "name": "#%%\n"
    }
   },
   "outputs": [],
   "source": [
    "\n",
    "import json\n",
    "import pandas as pd"
   ]
  },
  {
   "cell_type": "code",
   "execution_count": 6,
   "outputs": [],
   "source": [
    "f = open('r.json',encoding='utf-8')\n",
    "json_data = json.load(f)"
   ],
   "metadata": {
    "collapsed": false,
    "pycharm": {
     "name": "#%%\n"
    }
   }
  },
  {
   "cell_type": "code",
   "execution_count": 16,
   "outputs": [
    {
     "data": {
      "text/plain": "0      {'t': 1679158502, 'p': 1, 'h': 0, 'a': 0, 'rt'...\n1      {'t': 1679158473, 'p': 1, 'h': 1.01, 'a': 9.33...\n2      {'t': 1679158436, 'p': 1, 'h': 1.03, 'a': 8.14...\n3      {'t': 1679158413, 'p': 1, 'h': 1.05, 'a': 7.25...\n4      {'t': 1679158371, 'p': 1, 'h': 1.07, 'a': 6.55...\n                             ...                        \n136    {'t': 1679152000, 'p': -2, 'h': 1.85, 'a': 2.0...\n137    {'t': 1679151955, 'p': -2, 'h': 1.86, 'a': 2.0...\n138    {'t': 1679151953, 'p': -2, 'h': 1.85, 'a': 2.0...\n139    {'t': 1679151932, 'p': -2, 'h': 1.87, 'a': 2.0...\n140    {'t': 1679151727, 'p': -2, 'h': 1.88, 'a': 2.0...\nName: 1, Length: 141, dtype: object"
     },
     "execution_count": 16,
     "metadata": {},
     "output_type": "execute_result"
    }
   ],
   "source": [
    "a = pd.json_normalize(json_data,['al','l']).loc[1]\n",
    "pd.json_normalize(json_data,['al','l']).loc[1]"
   ],
   "metadata": {
    "collapsed": false,
    "pycharm": {
     "name": "#%%\n"
    }
   }
  },
  {
   "cell_type": "code",
   "execution_count": 17,
   "outputs": [],
   "source": [
    "# 定义lambda函数，将每个元素中的't', 'p', 'h'取出来组成一个tuple\n",
    "parse_tph = lambda x: (x['t'], x['p'], x['h'])\n",
    "\n",
    "# 使用apply函数，将parse_tph作用于s中的每个元素，得到一个DataFrame\n",
    "df_tph = a.apply(parse_tph).apply(pd.Series)\n",
    "\n",
    "# 将df_tph与原始Series按列合并\n",
    "result = pd.concat([a, df_tph], axis=1)"
   ],
   "metadata": {
    "collapsed": false,
    "pycharm": {
     "name": "#%%\n"
    }
   }
  },
  {
   "cell_type": "code",
   "execution_count": 18,
   "outputs": [
    {
     "data": {
      "text/plain": "                                                     1             0    1  \\\n0    {'t': 1679158502, 'p': 1, 'h': 0, 'a': 0, 'rt'...  1.679159e+09  1.0   \n1    {'t': 1679158473, 'p': 1, 'h': 1.01, 'a': 9.33...  1.679158e+09  1.0   \n2    {'t': 1679158436, 'p': 1, 'h': 1.03, 'a': 8.14...  1.679158e+09  1.0   \n3    {'t': 1679158413, 'p': 1, 'h': 1.05, 'a': 7.25...  1.679158e+09  1.0   \n4    {'t': 1679158371, 'p': 1, 'h': 1.07, 'a': 6.55...  1.679158e+09  1.0   \n..                                                 ...           ...  ...   \n136  {'t': 1679152000, 'p': -2, 'h': 1.85, 'a': 2.0...  1.679152e+09 -2.0   \n137  {'t': 1679151955, 'p': -2, 'h': 1.86, 'a': 2.0...  1.679152e+09 -2.0   \n138  {'t': 1679151953, 'p': -2, 'h': 1.85, 'a': 2.0...  1.679152e+09 -2.0   \n139  {'t': 1679151932, 'p': -2, 'h': 1.87, 'a': 2.0...  1.679152e+09 -2.0   \n140  {'t': 1679151727, 'p': -2, 'h': 1.88, 'a': 2.0...  1.679152e+09 -2.0   \n\n        2  \n0    0.00  \n1    1.01  \n2    1.03  \n3    1.05  \n4    1.07  \n..    ...  \n136  1.85  \n137  1.86  \n138  1.85  \n139  1.87  \n140  1.88  \n\n[141 rows x 4 columns]",
      "text/html": "<div>\n<style scoped>\n    .dataframe tbody tr th:only-of-type {\n        vertical-align: middle;\n    }\n\n    .dataframe tbody tr th {\n        vertical-align: top;\n    }\n\n    .dataframe thead th {\n        text-align: right;\n    }\n</style>\n<table border=\"1\" class=\"dataframe\">\n  <thead>\n    <tr style=\"text-align: right;\">\n      <th></th>\n      <th>1</th>\n      <th>0</th>\n      <th>1</th>\n      <th>2</th>\n    </tr>\n  </thead>\n  <tbody>\n    <tr>\n      <th>0</th>\n      <td>{'t': 1679158502, 'p': 1, 'h': 0, 'a': 0, 'rt'...</td>\n      <td>1.679159e+09</td>\n      <td>1.0</td>\n      <td>0.00</td>\n    </tr>\n    <tr>\n      <th>1</th>\n      <td>{'t': 1679158473, 'p': 1, 'h': 1.01, 'a': 9.33...</td>\n      <td>1.679158e+09</td>\n      <td>1.0</td>\n      <td>1.01</td>\n    </tr>\n    <tr>\n      <th>2</th>\n      <td>{'t': 1679158436, 'p': 1, 'h': 1.03, 'a': 8.14...</td>\n      <td>1.679158e+09</td>\n      <td>1.0</td>\n      <td>1.03</td>\n    </tr>\n    <tr>\n      <th>3</th>\n      <td>{'t': 1679158413, 'p': 1, 'h': 1.05, 'a': 7.25...</td>\n      <td>1.679158e+09</td>\n      <td>1.0</td>\n      <td>1.05</td>\n    </tr>\n    <tr>\n      <th>4</th>\n      <td>{'t': 1679158371, 'p': 1, 'h': 1.07, 'a': 6.55...</td>\n      <td>1.679158e+09</td>\n      <td>1.0</td>\n      <td>1.07</td>\n    </tr>\n    <tr>\n      <th>...</th>\n      <td>...</td>\n      <td>...</td>\n      <td>...</td>\n      <td>...</td>\n    </tr>\n    <tr>\n      <th>136</th>\n      <td>{'t': 1679152000, 'p': -2, 'h': 1.85, 'a': 2.0...</td>\n      <td>1.679152e+09</td>\n      <td>-2.0</td>\n      <td>1.85</td>\n    </tr>\n    <tr>\n      <th>137</th>\n      <td>{'t': 1679151955, 'p': -2, 'h': 1.86, 'a': 2.0...</td>\n      <td>1.679152e+09</td>\n      <td>-2.0</td>\n      <td>1.86</td>\n    </tr>\n    <tr>\n      <th>138</th>\n      <td>{'t': 1679151953, 'p': -2, 'h': 1.85, 'a': 2.0...</td>\n      <td>1.679152e+09</td>\n      <td>-2.0</td>\n      <td>1.85</td>\n    </tr>\n    <tr>\n      <th>139</th>\n      <td>{'t': 1679151932, 'p': -2, 'h': 1.87, 'a': 2.0...</td>\n      <td>1.679152e+09</td>\n      <td>-2.0</td>\n      <td>1.87</td>\n    </tr>\n    <tr>\n      <th>140</th>\n      <td>{'t': 1679151727, 'p': -2, 'h': 1.88, 'a': 2.0...</td>\n      <td>1.679152e+09</td>\n      <td>-2.0</td>\n      <td>1.88</td>\n    </tr>\n  </tbody>\n</table>\n<p>141 rows × 4 columns</p>\n</div>"
     },
     "execution_count": 18,
     "metadata": {},
     "output_type": "execute_result"
    }
   ],
   "source": [
    "result"
   ],
   "metadata": {
    "collapsed": false,
    "pycharm": {
     "name": "#%%\n"
    }
   }
  }
 ],
 "metadata": {
  "kernelspec": {
   "display_name": "Python 3",
   "language": "python",
   "name": "python3"
  },
  "language_info": {
   "codemirror_mode": {
    "name": "ipython",
    "version": 2
   },
   "file_extension": ".py",
   "mimetype": "text/x-python",
   "name": "python",
   "nbconvert_exporter": "python",
   "pygments_lexer": "ipython2",
   "version": "2.7.6"
  }
 },
 "nbformat": 4,
 "nbformat_minor": 0
}